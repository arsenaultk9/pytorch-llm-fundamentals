{
 "cells": [
  {
   "cell_type": "markdown",
   "metadata": {},
   "source": [
    "# Explore Data"
   ]
  },
  {
   "cell_type": "code",
   "execution_count": 1,
   "metadata": {},
   "outputs": [
    {
     "name": "stderr",
     "output_type": "stream",
     "text": [
      "c:\\dev\\systemes\\eia\\pytorch-llm-fundamentals\\venv\\lib\\site-packages\\tqdm\\auto.py:21: TqdmWarning: IProgress not found. Please update jupyter and ipywidgets. See https://ipywidgets.readthedocs.io/en/stable/user_install.html\n",
      "  from .autonotebook import tqdm as notebook_tqdm\n"
     ]
    },
    {
     "data": {
      "text/plain": [
       "Encoding(num_tokens=512, attributes=[ids, type_ids, tokens, offsets, attention_mask, special_tokens_mask, overflowing])"
      ]
     },
     "execution_count": 1,
     "metadata": {},
     "output_type": "execute_result"
    }
   ],
   "source": [
    "import pickle\n",
    "\n",
    "\n",
    "with open('./data/scitechnews.pkl', 'rb') as file:\n",
    "    dataset =  pickle.load(file, encoding=\"latin1\")\n",
    "    \n",
    "example = dataset['train'][0]\n",
    "\n",
    "example"
   ]
  },
  {
   "cell_type": "markdown",
   "metadata": {},
   "source": [
    "## Encoding content"
   ]
  },
  {
   "cell_type": "code",
   "execution_count": 2,
   "metadata": {},
   "outputs": [
    {
     "name": "stdout",
     "output_type": "stream",
     "text": [
      "sequence length: 512\n",
      "ids: [101, 2043, 2047, 2259, 2103, 2623, 2006, 9857, 2008, 2009, 2052, 2574, 5478, 2111, 2000, 2265, 6947, 1997, 2012, 2560, 2028, 21887, 23350, 17404, 2915, 2000, 4607, 5661, 1010, 3664, 3021, 2139, 1038, 8523, 3695, 2056, 1996, 2291, 2001, 1000, 3722, 1011, 2074, 2265, 2009, 1998, 2017, 1005, 2128, 1999, 1012, 1000, 2625, 3722, 2001, 1996, 9394, 5981, 2008, 1996, 2103, 5853, 17572, 1012, 17404, 19494, 1010, 2029, 2265, 6947, 1997, 12436, 14693, 9323, 1010, 2411, 1999, 4816, 2433, 2107, 2004, 2019, 10439, 1010, 2024, 1996, 28272, 1997, 2720, 1012, 2139, 1038, 8523, 3695, 1005, 1055, 2933, 1012, 2005, 2706, 1010, 2122, 2636, 1011, 2036, 2124, 2004, 2740, 5235, 2030, 3617, 2740, 17987, 1011, 2031, 2042, 2104, 6594, 2105, 1996, 2088, 2004, 1037, 6994, 2000, 3499, 12436, 14693, 23854, 2111, 1010, 2040, 2024, 2625, 2012, 3891, 2013, 1996, 7865, 1010, 2000, 8587, 9689, 1012, 2047, 2259, 2097, 2022, 1996, 2034, 1057, 1012, 1055, 1012, 2103, 2000, 2421, 2122, 5235, 1999, 1037, 17404, 11405, 1010, 9280, 4292, 2125, 2714, 4506, 6974, 1012, 2021, 1996, 7731, 2075, 1997, 2122, 22496, 2071, 2036, 20774, 1999, 2019, 3690, 1997, 3445, 3617, 9867, 1010, 9394, 6950, 2056, 1012, 2008, 1005, 1055, 2138, 17404, 5235, 2089, 9585, 3295, 9651, 1010, 2130, 2004, 2045, 2024, 2261, 3513, 2055, 2129, 2111, 1005, 1055, 3617, 17404, 2951, 2323, 2022, 8250, 1998, 2129, 2009, 2064, 2022, 4207, 1012, 2096, 4493, 9394, 4277, 5787, 1996, 6631, 1997, 2592, 2426, 2966, 11670, 1010, 2045, 2003, 2053, 2107, 3627, 2005, 2043, 2111, 2039, 11066, 2037, 2219, 2951, 3031, 2019, 10439, 1012, 102, 0, 0, 0, 0, 0, 0, 0, 0, 0, 0, 0, 0, 0, 0, 0, 0, 0, 0, 0, 0, 0, 0, 0, 0, 0, 0, 0, 0, 0, 0, 0, 0, 0, 0, 0, 0, 0, 0, 0, 0, 0, 0, 0, 0, 0, 0, 0, 0, 0, 0, 0, 0, 0, 0, 0, 0, 0, 0, 0, 0, 0, 0, 0, 0, 0, 0, 0, 0, 0, 0, 0, 0, 0, 0, 0, 0, 0, 0, 0, 0, 0, 0, 0, 0, 0, 0, 0, 0, 0, 0, 0, 0, 0, 0, 0, 0, 0, 0, 0, 0, 0, 0, 0, 0, 0, 0, 0, 0, 0, 0, 0, 0, 0, 0, 0, 0, 0, 0, 0, 0, 0, 0, 0, 0, 0, 0, 0, 0, 0, 0, 0, 0, 0, 0, 0, 0, 0, 0, 0, 0, 0, 0, 0, 0, 0, 0, 0, 0, 0, 0, 0, 0, 0, 0, 0, 0, 0, 0, 0, 0, 0, 0, 0, 0, 0, 0, 0, 0, 0, 0, 0, 0, 0, 0, 0, 0, 0, 0, 0, 0, 0, 0, 0, 0, 0, 0, 0, 0, 0, 0, 0, 0, 0, 0, 0, 0, 0, 0, 0, 0, 0, 0, 0, 0, 0, 0, 0, 0, 0, 0, 0, 0, 0, 0, 0, 0, 0, 0, 0, 0, 0, 0, 0, 0, 0, 0, 0, 0, 0, 0, 0, 0, 0, 0, 0, 0, 0, 0, 0, 0, 0, 0, 0, 0, 0, 0, 0, 0, 0, 0, 0, 0, 0]\n",
      "tokens: ['[CLS]', 'when', 'new', 'york', 'city', 'announced', 'on', 'tuesday', 'that', 'it', 'would', 'soon', 'require', 'people', 'to', 'show', 'proof', 'of', 'at', 'least', 'one', 'corona', '##virus', 'vaccine', 'shot', 'to', 'enter', 'businesses', ',', 'mayor', 'bill', 'de', 'b', '##las', '##io', 'said', 'the', 'system', 'was', '\"', 'simple', '-', 'just', 'show', 'it', 'and', 'you', \"'\", 're', 'in', '.', '\"', 'less', 'simple', 'was', 'the', 'privacy', 'debate', 'that', 'the', 'city', 'reign', '##ited', '.', 'vaccine', 'passports', ',', 'which', 'show', 'proof', 'of', 'va', '##cci', '##nation', ',', 'often', 'in', 'electronic', 'form', 'such', 'as', 'an', 'app', ',', 'are', 'the', 'bedrock', 'of', 'mr', '.', 'de', 'b', '##las', '##io', \"'\", 's', 'plan', '.', 'for', 'months', ',', 'these', 'records', '-', 'also', 'known', 'as', 'health', 'passes', 'or', 'digital', 'health', 'certificates', '-', 'have', 'been', 'under', 'discussion', 'around', 'the', 'world', 'as', 'a', 'tool', 'to', 'allow', 'va', '##cci', '##nated', 'people', ',', 'who', 'are', 'less', 'at', 'risk', 'from', 'the', 'virus', ',', 'to', 'gather', 'safely', '.', 'new', 'york', 'will', 'be', 'the', 'first', 'u', '.', 's', '.', 'city', 'to', 'include', 'these', 'passes', 'in', 'a', 'vaccine', 'mandate', ',', 'potentially', 'setting', 'off', 'similar', 'actions', 'elsewhere', '.', 'but', 'the', 'mainstream', '##ing', 'of', 'these', 'credentials', 'could', 'also', 'usher', 'in', 'an', 'era', 'of', 'increased', 'digital', 'surveillance', ',', 'privacy', 'researchers', 'said', '.', 'that', \"'\", 's', 'because', 'vaccine', 'passes', 'may', 'enable', 'location', 'tracking', ',', 'even', 'as', 'there', 'are', 'few', 'rules', 'about', 'how', 'people', \"'\", 's', 'digital', 'vaccine', 'data', 'should', 'be', 'stored', 'and', 'how', 'it', 'can', 'be', 'shared', '.', 'while', 'existing', 'privacy', 'laws', 'limit', 'the', 'sharing', 'of', 'information', 'among', 'medical', 'providers', ',', 'there', 'is', 'no', 'such', 'rule', 'for', 'when', 'people', 'up', '##load', 'their', 'own', 'data', 'onto', 'an', 'app', '.', '[SEP]', '[PAD]', '[PAD]', '[PAD]', '[PAD]', '[PAD]', '[PAD]', '[PAD]', '[PAD]', '[PAD]', '[PAD]', '[PAD]', '[PAD]', '[PAD]', '[PAD]', '[PAD]', '[PAD]', '[PAD]', '[PAD]', '[PAD]', '[PAD]', '[PAD]', '[PAD]', '[PAD]', '[PAD]', '[PAD]', '[PAD]', '[PAD]', '[PAD]', '[PAD]', '[PAD]', '[PAD]', '[PAD]', '[PAD]', '[PAD]', '[PAD]', '[PAD]', '[PAD]', '[PAD]', '[PAD]', '[PAD]', '[PAD]', '[PAD]', '[PAD]', '[PAD]', '[PAD]', '[PAD]', '[PAD]', '[PAD]', '[PAD]', '[PAD]', '[PAD]', '[PAD]', '[PAD]', '[PAD]', '[PAD]', '[PAD]', '[PAD]', '[PAD]', '[PAD]', '[PAD]', '[PAD]', '[PAD]', '[PAD]', '[PAD]', '[PAD]', '[PAD]', '[PAD]', '[PAD]', '[PAD]', '[PAD]', '[PAD]', '[PAD]', '[PAD]', '[PAD]', '[PAD]', '[PAD]', '[PAD]', '[PAD]', '[PAD]', '[PAD]', '[PAD]', '[PAD]', '[PAD]', '[PAD]', '[PAD]', '[PAD]', '[PAD]', '[PAD]', '[PAD]', '[PAD]', '[PAD]', '[PAD]', '[PAD]', '[PAD]', '[PAD]', '[PAD]', '[PAD]', '[PAD]', '[PAD]', '[PAD]', '[PAD]', '[PAD]', '[PAD]', '[PAD]', '[PAD]', '[PAD]', '[PAD]', '[PAD]', '[PAD]', '[PAD]', '[PAD]', '[PAD]', '[PAD]', '[PAD]', '[PAD]', '[PAD]', '[PAD]', '[PAD]', '[PAD]', '[PAD]', '[PAD]', '[PAD]', '[PAD]', '[PAD]', '[PAD]', '[PAD]', '[PAD]', '[PAD]', '[PAD]', '[PAD]', '[PAD]', '[PAD]', '[PAD]', '[PAD]', '[PAD]', '[PAD]', '[PAD]', '[PAD]', '[PAD]', '[PAD]', '[PAD]', '[PAD]', '[PAD]', '[PAD]', '[PAD]', '[PAD]', '[PAD]', '[PAD]', '[PAD]', '[PAD]', '[PAD]', '[PAD]', '[PAD]', '[PAD]', '[PAD]', '[PAD]', '[PAD]', '[PAD]', '[PAD]', '[PAD]', '[PAD]', '[PAD]', '[PAD]', '[PAD]', '[PAD]', '[PAD]', '[PAD]', '[PAD]', '[PAD]', '[PAD]', '[PAD]', '[PAD]', '[PAD]', '[PAD]', '[PAD]', '[PAD]', '[PAD]', '[PAD]', '[PAD]', '[PAD]', '[PAD]', '[PAD]', '[PAD]', '[PAD]', '[PAD]', '[PAD]', '[PAD]', '[PAD]', '[PAD]', '[PAD]', '[PAD]', '[PAD]', '[PAD]', '[PAD]', '[PAD]', '[PAD]', '[PAD]', '[PAD]', '[PAD]', '[PAD]', '[PAD]', '[PAD]', '[PAD]', '[PAD]', '[PAD]', '[PAD]', '[PAD]', '[PAD]', '[PAD]', '[PAD]', '[PAD]', '[PAD]', '[PAD]', '[PAD]', '[PAD]', '[PAD]', '[PAD]', '[PAD]', '[PAD]', '[PAD]', '[PAD]', '[PAD]', '[PAD]', '[PAD]', '[PAD]', '[PAD]', '[PAD]', '[PAD]', '[PAD]', '[PAD]', '[PAD]', '[PAD]', '[PAD]', '[PAD]', '[PAD]', '[PAD]', '[PAD]', '[PAD]', '[PAD]', '[PAD]', '[PAD]', '[PAD]', '[PAD]', '[PAD]', '[PAD]', '[PAD]', '[PAD]', '[PAD]', '[PAD]', '[PAD]', '[PAD]', '[PAD]', '[PAD]']\n",
      "attention_mask: [1, 1, 1, 1, 1, 1, 1, 1, 1, 1, 1, 1, 1, 1, 1, 1, 1, 1, 1, 1, 1, 1, 1, 1, 1, 1, 1, 1, 1, 1, 1, 1, 1, 1, 1, 1, 1, 1, 1, 1, 1, 1, 1, 1, 1, 1, 1, 1, 1, 1, 1, 1, 1, 1, 1, 1, 1, 1, 1, 1, 1, 1, 1, 1, 1, 1, 1, 1, 1, 1, 1, 1, 1, 1, 1, 1, 1, 1, 1, 1, 1, 1, 1, 1, 1, 1, 1, 1, 1, 1, 1, 1, 1, 1, 1, 1, 1, 1, 1, 1, 1, 1, 1, 1, 1, 1, 1, 1, 1, 1, 1, 1, 1, 1, 1, 1, 1, 1, 1, 1, 1, 1, 1, 1, 1, 1, 1, 1, 1, 1, 1, 1, 1, 1, 1, 1, 1, 1, 1, 1, 1, 1, 1, 1, 1, 1, 1, 1, 1, 1, 1, 1, 1, 1, 1, 1, 1, 1, 1, 1, 1, 1, 1, 1, 1, 1, 1, 1, 1, 1, 1, 1, 1, 1, 1, 1, 1, 1, 1, 1, 1, 1, 1, 1, 1, 1, 1, 1, 1, 1, 1, 1, 1, 1, 1, 1, 1, 1, 1, 1, 1, 1, 1, 1, 1, 1, 1, 1, 1, 1, 1, 1, 1, 1, 1, 1, 1, 1, 1, 1, 1, 1, 1, 1, 1, 1, 1, 1, 1, 1, 1, 1, 1, 1, 1, 1, 1, 1, 1, 1, 1, 1, 1, 1, 1, 1, 1, 1, 1, 1, 1, 1, 1, 1, 1, 1, 1, 1, 1, 0, 0, 0, 0, 0, 0, 0, 0, 0, 0, 0, 0, 0, 0, 0, 0, 0, 0, 0, 0, 0, 0, 0, 0, 0, 0, 0, 0, 0, 0, 0, 0, 0, 0, 0, 0, 0, 0, 0, 0, 0, 0, 0, 0, 0, 0, 0, 0, 0, 0, 0, 0, 0, 0, 0, 0, 0, 0, 0, 0, 0, 0, 0, 0, 0, 0, 0, 0, 0, 0, 0, 0, 0, 0, 0, 0, 0, 0, 0, 0, 0, 0, 0, 0, 0, 0, 0, 0, 0, 0, 0, 0, 0, 0, 0, 0, 0, 0, 0, 0, 0, 0, 0, 0, 0, 0, 0, 0, 0, 0, 0, 0, 0, 0, 0, 0, 0, 0, 0, 0, 0, 0, 0, 0, 0, 0, 0, 0, 0, 0, 0, 0, 0, 0, 0, 0, 0, 0, 0, 0, 0, 0, 0, 0, 0, 0, 0, 0, 0, 0, 0, 0, 0, 0, 0, 0, 0, 0, 0, 0, 0, 0, 0, 0, 0, 0, 0, 0, 0, 0, 0, 0, 0, 0, 0, 0, 0, 0, 0, 0, 0, 0, 0, 0, 0, 0, 0, 0, 0, 0, 0, 0, 0, 0, 0, 0, 0, 0, 0, 0, 0, 0, 0, 0, 0, 0, 0, 0, 0, 0, 0, 0, 0, 0, 0, 0, 0, 0, 0, 0, 0, 0, 0, 0, 0, 0, 0, 0, 0, 0, 0, 0, 0, 0, 0, 0, 0, 0, 0, 0, 0, 0, 0, 0, 0, 0, 0, 0, 0, 0, 0, 0, 0]\n"
     ]
    }
   ],
   "source": [
    "print(f\"sequence length: {len(example.ids)}\")\n",
    "print(f\"ids: {example.ids}\")\n",
    "print(f\"tokens: {example.tokens}\")\n",
    "print(f\"attention_mask: {example.attention_mask}\")"
   ]
  }
 ],
 "metadata": {
  "kernelspec": {
   "display_name": "venv",
   "language": "python",
   "name": "python3"
  },
  "language_info": {
   "codemirror_mode": {
    "name": "ipython",
    "version": 3
   },
   "file_extension": ".py",
   "mimetype": "text/x-python",
   "name": "python",
   "nbconvert_exporter": "python",
   "pygments_lexer": "ipython3",
   "version": "3.10.6"
  }
 },
 "nbformat": 4,
 "nbformat_minor": 2
}
