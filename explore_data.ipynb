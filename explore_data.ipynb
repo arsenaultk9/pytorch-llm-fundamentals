{
 "cells": [
  {
   "cell_type": "markdown",
   "metadata": {},
   "source": [
    "# Explore Data"
   ]
  },
  {
   "cell_type": "code",
   "execution_count": 1,
   "metadata": {},
   "outputs": [
    {
     "name": "stderr",
     "output_type": "stream",
     "text": [
      "c:\\dev\\systemes\\eia\\pytorch-llm-fundamentals\\venv\\lib\\site-packages\\tqdm\\auto.py:21: TqdmWarning: IProgress not found. Please update jupyter and ipywidgets. See https://ipywidgets.readthedocs.io/en/stable/user_install.html\n",
      "  from .autonotebook import tqdm as notebook_tqdm\n"
     ]
    },
    {
     "data": {
      "text/plain": [
       "Encoding(num_tokens=42, attributes=[ids, type_ids, tokens, offsets, attention_mask, special_tokens_mask, overflowing])"
      ]
     },
     "execution_count": 1,
     "metadata": {},
     "output_type": "execute_result"
    }
   ],
   "source": [
    "import pickle\n",
    "\n",
    "\n",
    "with open('./data/scitechnews.pkl', 'rb') as file:\n",
    "    dataset =  pickle.load(file, encoding=\"latin1\")\n",
    "    \n",
    "example = dataset['train'][0]\n",
    "\n",
    "example"
   ]
  },
  {
   "cell_type": "markdown",
   "metadata": {},
   "source": [
    "## Encoding content"
   ]
  },
  {
   "cell_type": "code",
   "execution_count": 2,
   "metadata": {},
   "outputs": [
    {
     "name": "stdout",
     "output_type": "stream",
     "text": [
      "sequence length: 42\n",
      "ids: [101, 2043, 2047, 2259, 2103, 2623, 2006, 9857, 2008, 2009, 2052, 2574, 5478, 2111, 2000, 2265, 6947, 1997, 2012, 2560, 2028, 21887, 23350, 17404, 2915, 2000, 4607, 5661, 1010, 3664, 3021, 2139, 1038, 8523, 3695, 2056, 1996, 2291, 2001, 1000, 3722, 102]\n",
      "tokens: ['[CLS]', 'when', 'new', 'york', 'city', 'announced', 'on', 'tuesday', 'that', 'it', 'would', 'soon', 'require', 'people', 'to', 'show', 'proof', 'of', 'at', 'least', 'one', 'corona', '##virus', 'vaccine', 'shot', 'to', 'enter', 'businesses', ',', 'mayor', 'bill', 'de', 'b', '##las', '##io', 'said', 'the', 'system', 'was', '\"', 'simple', '[SEP]']\n",
      "attention_mask: [1, 1, 1, 1, 1, 1, 1, 1, 1, 1, 1, 1, 1, 1, 1, 1, 1, 1, 1, 1, 1, 1, 1, 1, 1, 1, 1, 1, 1, 1, 1, 1, 1, 1, 1, 1, 1, 1, 1, 1, 1, 1]\n"
     ]
    }
   ],
   "source": [
    "print(f\"sequence length: {len(example.ids)}\")\n",
    "print(f\"ids: {example.ids}\")\n",
    "print(f\"tokens: {example.tokens}\")\n",
    "print(f\"attention_mask: {example.attention_mask}\")"
   ]
  }
 ],
 "metadata": {
  "kernelspec": {
   "display_name": "venv",
   "language": "python",
   "name": "python3"
  },
  "language_info": {
   "codemirror_mode": {
    "name": "ipython",
    "version": 3
   },
   "file_extension": ".py",
   "mimetype": "text/x-python",
   "name": "python",
   "nbconvert_exporter": "python",
   "pygments_lexer": "ipython3",
   "version": "3.10.6"
  }
 },
 "nbformat": 4,
 "nbformat_minor": 2
}
